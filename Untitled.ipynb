{
 "cells": [
  {
   "cell_type": "code",
   "execution_count": 1,
   "metadata": {},
   "outputs": [
    {
     "ename": "SyntaxError",
     "evalue": "invalid syntax (<ipython-input-1-8dc48d93d223>, line 1)",
     "output_type": "error",
     "traceback": [
      "\u001b[0;36m  File \u001b[0;32m\"<ipython-input-1-8dc48d93d223>\"\u001b[0;36m, line \u001b[0;32m1\u001b[0m\n\u001b[0;31m    https://stackoverflow.com/questions/18395952/how-to-load-csv-data-in-scikit-and-using-it-for-naive-bayes-classification\u001b[0m\n\u001b[0m         ^\u001b[0m\n\u001b[0;31mSyntaxError\u001b[0m\u001b[0;31m:\u001b[0m invalid syntax\n"
     ]
    }
   ],
   "source": [
    "https://stackoverflow.com/questions/18395952/how-to-load-csv-data-in-scikit-and-using-it-for-naive-bayes-classification\n",
    "    \n",
    "    "
   ]
  },
  {
   "cell_type": "code",
   "execution_count": 85,
   "metadata": {},
   "outputs": [
    {
     "data": {
      "text/plain": [
       "((1200, 10), (1200, 1), (270, 10))"
      ]
     },
     "execution_count": 85,
     "metadata": {},
     "output_type": "execute_result"
    }
   ],
   "source": [
    "import pandas as pd\n",
    "import numpy as np\n",
    "\n",
    "DATA_HOME_DIR = \"data/cleaned/\"\n",
    "\n",
    "row_data = pd.read_csv(DATA_HOME_DIR + 'AnalyticsChallenge1-Train.csv')\n",
    "test_data = pd.read_csv(DATA_HOME_DIR + 'AnalyticsChallenge1-Testing.csv')\n",
    "results_data = pd.read_csv(DATA_HOME_DIR + 'AnalyticsChallenge1-Results.csv', index_col=0)\n",
    "test_ind = results_data.index\n",
    "\n",
    "\n",
    "train_X = row_data[['Age','DistanceFromHome','JobSatisfaction','WorkLifeBalance','YearsSinceLastPromotion','YearsAtCompany','DailyRate','PerformanceRating','RelationshipSatisfaction', 'StockOptionLevel']]\n",
    "train_y = row_data[['Attrition']]\n",
    "test_X= test_data[['Age','DistanceFromHome','JobSatisfaction','WorkLifeBalance','YearsSinceLastPromotion','YearsAtCompany','DailyRate','PerformanceRating','RelationshipSatisfaction', 'StockOptionLevel']]\n",
    "\n",
    "all_data = pd.concat([train_X, test_X])\n",
    "train_X.shape, train_y.shape, test_X.shape\n",
    "\n"
   ]
  },
  {
   "cell_type": "code",
   "execution_count": 86,
   "metadata": {},
   "outputs": [
    {
     "data": {
      "text/plain": [
       "((1200, 10), (1200,), (270, 10))"
      ]
     },
     "execution_count": 86,
     "metadata": {},
     "output_type": "execute_result"
    }
   ],
   "source": [
    "X = train_X\n",
    "y = train_y.values.ravel()\n",
    "\n",
    "\n",
    "X.shape, y.shape, test_X.shape"
   ]
  },
  {
   "cell_type": "code",
   "execution_count": 91,
   "metadata": {},
   "outputs": [
    {
     "data": {
      "text/plain": [
       "LogisticRegression(C=1.0, class_weight=None, dual=False, fit_intercept=True,\n",
       "          intercept_scaling=1, max_iter=100, multi_class='ovr', n_jobs=1,\n",
       "          penalty='l2', random_state=None, solver='liblinear', tol=0.0001,\n",
       "          verbose=0, warm_start=False)"
      ]
     },
     "execution_count": 91,
     "metadata": {},
     "output_type": "execute_result"
    }
   ],
   "source": [
    "# create model\n",
    "from sklearn.linear_model import LogisticRegression\n",
    "model = LogisticRegression()\n",
    "model.fit(X, y)\n",
    "\n"
   ]
  },
  {
   "cell_type": "code",
   "execution_count": 102,
   "metadata": {},
   "outputs": [
    {
     "data": {
      "text/plain": [
       "SVC(C=1.0, cache_size=200, class_weight=None, coef0=0.0,\n",
       "  decision_function_shape=None, degree=3, gamma='auto', kernel='linear',\n",
       "  max_iter=-1, probability=False, random_state=None, shrinking=True,\n",
       "  tol=0.001, verbose=False)"
      ]
     },
     "execution_count": 102,
     "metadata": {},
     "output_type": "execute_result"
    }
   ],
   "source": [
    "from sklearn.svm import SVC\n",
    "clf = svm.SVC(kernel='linear')\n",
    "clf.fit(X,y)"
   ]
  },
  {
   "cell_type": "code",
   "execution_count": 104,
   "metadata": {},
   "outputs": [
    {
     "name": "stdout",
     "output_type": "stream",
     "text": [
      "270\n",
      "270\n"
     ]
    }
   ],
   "source": [
    "p_survived = model.predict(test_X.values)\n",
    "p_survived = clf.predict(test_X.values)\n",
    "print len(p_survived)\n",
    "print len(test_ind)\n",
    "submission = pd.DataFrame()\n",
    "submission['PassengerId'] = test_ind\n",
    "submission['Attrition'] = p_survived\n",
    "submission.to_csv('submission.csv', index=False)"
   ]
  },
  {
   "cell_type": "code",
   "execution_count": null,
   "metadata": {
    "collapsed": true
   },
   "outputs": [],
   "source": []
  }
 ],
 "metadata": {
  "kernelspec": {
   "display_name": "Python 2",
   "language": "python",
   "name": "python2"
  },
  "language_info": {
   "codemirror_mode": {
    "name": "ipython",
    "version": 2
   },
   "file_extension": ".py",
   "mimetype": "text/x-python",
   "name": "python",
   "nbconvert_exporter": "python",
   "pygments_lexer": "ipython2",
   "version": "2.7.13"
  }
 },
 "nbformat": 4,
 "nbformat_minor": 2
}
